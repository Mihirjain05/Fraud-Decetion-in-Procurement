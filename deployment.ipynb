{
 "cells": [
  {
   "cell_type": "code",
   "execution_count": 2,
   "metadata": {},
   "outputs": [
    {
     "name": "stdout",
     "output_type": "stream",
     "text": [
      " * Serving Flask app '__main__' (lazy loading)\n",
      " * Environment: production\n",
      "\u001b[31m   WARNING: This is a development server. Do not use it in a production deployment.\u001b[0m\n",
      "\u001b[2m   Use a production WSGI server instead.\u001b[0m\n",
      " * Debug mode: off\n"
     ]
    },
    {
     "name": "stderr",
     "output_type": "stream",
     "text": [
      " * Running on http://127.0.0.1:5000/ (Press CTRL+C to quit)\n",
      "127.0.0.1 - - [13/Dec/2022 17:03:27] \"GET / HTTP/1.1\" 200 -\n",
      "127.0.0.1 - - [13/Dec/2022 17:03:27] \"GET /static/css/main.css HTTP/1.1\" 404 -\n",
      "127.0.0.1 - - [13/Dec/2022 17:03:27] \"GET /favicon.ico HTTP/1.1\" 404 -\n"
     ]
    }
   ],
   "source": [
    "from flask import Flask,request,render_template\n",
    "\n",
    "app = Flask(__name__)\n",
    "        \n",
    "\n",
    "@app.route('/')\n",
    "def hello():\n",
    "    return render_template(\"index3.html\")\n",
    "\n",
    "@app.route('/result', methods = ['POST'])\n",
    "def result():\n",
    "\tif request.method == 'POST':\n",
    "            to_predict_list = request.form.to_dict()\n",
    "            to_predict_list = list(to_predict_list.values())\n",
    "\n",
    "          \n",
    "            return render_template(\"result.html\")\n",
    "if __name__ == '__main__':\n",
    "    app.run()"
   ]
  }
 ],
 "metadata": {
  "kernelspec": {
   "display_name": "Python 3.9.0 64-bit",
   "language": "python",
   "name": "python3"
  },
  "language_info": {
   "codemirror_mode": {
    "name": "ipython",
    "version": 3
   },
   "file_extension": ".py",
   "mimetype": "text/x-python",
   "name": "python",
   "nbconvert_exporter": "python",
   "pygments_lexer": "ipython3",
   "version": "3.9.0"
  },
  "vscode": {
   "interpreter": {
    "hash": "aae6609dcd6b8fdab8430a5f9cb1ea5ce04ba6875f1dffab84abf8c710e3a710"
   }
  }
 },
 "nbformat": 4,
 "nbformat_minor": 2
}
