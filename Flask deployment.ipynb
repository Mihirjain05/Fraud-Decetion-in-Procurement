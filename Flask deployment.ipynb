{
 "cells": [
  {
   "cell_type": "code",
   "execution_count": null,
   "metadata": {},
   "outputs": [
    {
     "name": "stdout",
     "output_type": "stream",
     "text": [
      " * Serving Flask app '__main__' (lazy loading)\n",
      " * Environment: production\n",
      "\u001b[31m   WARNING: This is a development server. Do not use it in a production deployment.\u001b[0m\n",
      "\u001b[2m   Use a production WSGI server instead.\u001b[0m\n",
      " * Debug mode: off\n"
     ]
    },
    {
     "name": "stderr",
     "output_type": "stream",
     "text": [
      " * Running on http://127.0.0.1:5000/ (Press CTRL+C to quit)\n",
      "127.0.0.1 - - [14/Dec/2022 23:12:51] \"GET / HTTP/1.1\" 200 -\n",
      "127.0.0.1 - - [14/Dec/2022 23:12:51] \"GET /static/css/index.css HTTP/1.1\" 404 -\n",
      "127.0.0.1 - - [14/Dec/2022 23:12:51] \"GET /favicon.ico HTTP/1.1\" 404 -\n",
      "C:\\Users\\ASUS\\anaconda3\\lib\\site-packages\\sklearn\\base.py:450: UserWarning: X does not have valid feature names, but RandomForestClassifier was fitted with feature names\n",
      "  warnings.warn(\n",
      "127.0.0.1 - - [14/Dec/2022 23:13:07] \"POST /result HTTP/1.1\" 200 -\n"
     ]
    }
   ],
   "source": [
    "from flask import Flask,request,render_template\n",
    "import numpy as np\n",
    "import pickle\n",
    "\n",
    "app = Flask(__name__)\n",
    "def ValuePredictor(to_predict_list):\n",
    "        to_predict = np.array(to_predict_list).reshape(1,13)\n",
    "        loaded_model = pickle.load(open(\"rf_clf_model.pkl\", \"rb\"))\n",
    "        result = loaded_model.predict(to_predict)\n",
    "        return result[0]\n",
    "        \n",
    "\n",
    "@app.route('/')\n",
    "def hello():\n",
    "    return render_template(\"index.html\")\n",
    "\n",
    "@app.route('/result', methods = ['POST'])\n",
    "def result():\n",
    "\tif request.method == 'POST':\n",
    "            to_predict_list = request.form.to_dict()\n",
    "            to_predict_list = list(to_predict_list.values())\n",
    "            to_predict_list[6] = (int(to_predict_list[6])-50)/(80-50)\n",
    "            to_predict_list[7] = (int(to_predict_list[7])-45.1)/(80-45.1)\n",
    "            to_predict_list[8] = (int(to_predict_list[8])-40.70)/(80-40.70)\n",
    "            to_predict_list[9] = (int(to_predict_list[9])-217500)/(18647550-217500)\n",
    "            to_predict_list[10] = (int(to_predict_list[10])-230785)/(55942660-230785)\n",
    "            to_predict_list[11] = (int(to_predict_list[11])-50)/(594.6-50)\n",
    "            to_predict_list[12] = (int(to_predict_list[12])-50)/(594.6-50)\n",
    "            \n",
    "            #x = (i-i.min())/(i.max()-i.min())\n",
    "       \n",
    "            \n",
    "            \n",
    "            result = ValuePredictor(to_predict_list)\t\n",
    "            if int(result)== 1:\n",
    "                prediction = 'Fraud Happened'\n",
    "            elif int(result) == 0:\n",
    "                prediction ='Fraud Not Happened'\n",
    "                \n",
    "            return render_template(\"result.html\", y=prediction)\n",
    "if __name__ == '__main__':\n",
    "    app.run()"
   ]
  },
  {
   "cell_type": "code",
   "execution_count": null,
   "metadata": {},
   "outputs": [],
   "source": []
  }
 ],
 "metadata": {
  "kernelspec": {
   "display_name": "Python 3 (ipykernel)",
   "language": "python",
   "name": "python3"
  },
  "language_info": {
   "codemirror_mode": {
    "name": "ipython",
    "version": 3
   },
   "file_extension": ".py",
   "mimetype": "text/x-python",
   "name": "python",
   "nbconvert_exporter": "python",
   "pygments_lexer": "ipython3",
   "version": "3.9.12"
  },
  "vscode": {
   "interpreter": {
    "hash": "aae6609dcd6b8fdab8430a5f9cb1ea5ce04ba6875f1dffab84abf8c710e3a710"
   }
  }
 },
 "nbformat": 4,
 "nbformat_minor": 2
}
